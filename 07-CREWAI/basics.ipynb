{
 "cells": [
  {
   "cell_type": "code",
   "execution_count": 7,
   "id": "d87a0f8c",
   "metadata": {},
   "outputs": [
    {
     "data": {
      "text/plain": [
       "True"
      ]
     },
     "execution_count": 7,
     "metadata": {},
     "output_type": "execute_result"
    }
   ],
   "source": [
    "import os\n",
    "from dotenv import load_dotenv\n",
    "\n",
    "load_dotenv()"
   ]
  },
  {
   "cell_type": "code",
   "execution_count": 19,
   "id": "c515e9e2",
   "metadata": {},
   "outputs": [],
   "source": [
    "from crewai import Task, Agent, Crew, LLM\n"
   ]
  },
  {
   "cell_type": "code",
   "execution_count": 20,
   "id": "521fbadd",
   "metadata": {},
   "outputs": [],
   "source": [
    "llm = LLM(\n",
    "  model = 'groq/meta-llama/llama-4-scout-17b-16e-instruct',\n",
    "  api_key= os.getenv('GROQ_API_KEY')\n",
    ")"
   ]
  },
  {
   "cell_type": "code",
   "execution_count": 21,
   "id": "3c563b75",
   "metadata": {},
   "outputs": [],
   "source": [
    "ResearchAgent = Agent(\n",
    "  name = \"Research Agent\",\n",
    "  description = \"An agent that summarize information.\",\n",
    "  goal = \"Find and summarize information about a given topic.\",\n",
    "  role= \"Research Expert\",\n",
    "  backstory= \"You are a research expert. Your task is to find and summarize information about various topics.\",\n",
    "  llm=llm\n",
    ")"
   ]
  },
  {
   "cell_type": "code",
   "execution_count": 22,
   "id": "5e6b9378",
   "metadata": {},
   "outputs": [],
   "source": [
    "ResearchTask = Task(\n",
    "  name = \"Research Task\",\n",
    "  description='Long term effect of using Retinol on skin health',\n",
    "  agent=ResearchAgent,\n",
    "  expected_output= \"A comprehensive summary without fillers and only important point of the long term effects of using Retinol on skin health.\"\n",
    ")"
   ]
  },
  {
   "cell_type": "code",
   "execution_count": 23,
   "id": "761586fa",
   "metadata": {},
   "outputs": [
    {
     "data": {
      "text/plain": [
       "CrewOutput(raw='Long-term use of Retinol provides several benefits to skin health. These benefits include \\n- Improved skin texture and tone \\n- Reduced appearance of fine lines and wrinkles \\n- Enhanced collagen production \\n- Fading of age spots and hyper-pigmentation \\n- Prevention of skin cancer \\n- Improved skin firmness \\n- Reduced pore size \\n\\nHowever, long-term use of Retinol may cause \\n- Skin irritation \\n- Dryness and sensitivity \\n- Increased risk of sunburn \\n- Potential for skin atrophy \\n\\nBest practices when using Retinol include \\n- Starting with low concentrations \\n- Using sun protection \\n- Moisturizing \\n- Being patient \\n\\nBy understanding both the benefits and potential risks associated with long-term Retinol use, individuals can optimize their skincare routine for healthier, more youthful-looking skin. When used properly, Retinol can be a valuable tool in maintaining and improving skin health over time. Consider consulting a dermatologist to create a personalized skincare plan incorporating Retinol.', pydantic=None, json_dict=None, tasks_output=[TaskOutput(description='Long term effect of using Retinol on skin health', name='Research Task', expected_output='A comprehensive summary without fillers and only important point of the long term effects of using Retinol on skin health.', summary='Long term effect of using Retinol on skin health...', raw='Long-term use of Retinol provides several benefits to skin health. These benefits include \\n- Improved skin texture and tone \\n- Reduced appearance of fine lines and wrinkles \\n- Enhanced collagen production \\n- Fading of age spots and hyper-pigmentation \\n- Prevention of skin cancer \\n- Improved skin firmness \\n- Reduced pore size \\n\\nHowever, long-term use of Retinol may cause \\n- Skin irritation \\n- Dryness and sensitivity \\n- Increased risk of sunburn \\n- Potential for skin atrophy \\n\\nBest practices when using Retinol include \\n- Starting with low concentrations \\n- Using sun protection \\n- Moisturizing \\n- Being patient \\n\\nBy understanding both the benefits and potential risks associated with long-term Retinol use, individuals can optimize their skincare routine for healthier, more youthful-looking skin. When used properly, Retinol can be a valuable tool in maintaining and improving skin health over time. Consider consulting a dermatologist to create a personalized skincare plan incorporating Retinol.', pydantic=None, json_dict=None, agent='Research Expert', output_format=<OutputFormat.RAW: 'raw'>)], token_usage=UsageMetrics(total_tokens=1085, prompt_tokens=205, cached_prompt_tokens=0, completion_tokens=880, successful_requests=1))"
      ]
     },
     "execution_count": 23,
     "metadata": {},
     "output_type": "execute_result"
    }
   ],
   "source": [
    "crew = Crew(\n",
    "  agents=[ResearchAgent],\n",
    "  tasks=[ResearchTask],\n",
    ")\n",
    "\n",
    "crew.kickoff()"
   ]
  },
  {
   "cell_type": "code",
   "execution_count": 1,
   "id": "87c11714",
   "metadata": {},
   "outputs": [
    {
     "name": "stdout",
     "output_type": "stream",
     "text": [
      "['__builtins__', '__cached__', '__doc__', '__file__', '__loader__', '__name__', '__package__', '__path__', '__spec__']\n"
     ]
    }
   ],
   "source": [
    "import crewai_tools\n",
    "print(dir(crewai_tools))\n"
   ]
  },
  {
   "cell_type": "code",
   "execution_count": null,
   "id": "c2a38c2b",
   "metadata": {},
   "outputs": [],
   "source": []
  }
 ],
 "metadata": {
  "kernelspec": {
   "display_name": "venv",
   "language": "python",
   "name": "python3"
  },
  "language_info": {
   "codemirror_mode": {
    "name": "ipython",
    "version": 3
   },
   "file_extension": ".py",
   "mimetype": "text/x-python",
   "name": "python",
   "nbconvert_exporter": "python",
   "pygments_lexer": "ipython3",
   "version": "3.13.2"
  }
 },
 "nbformat": 4,
 "nbformat_minor": 5
}
