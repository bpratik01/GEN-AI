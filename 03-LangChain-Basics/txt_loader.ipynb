{
 "cells": [
  {
   "cell_type": "code",
   "execution_count": 1,
   "metadata": {},
   "outputs": [
    {
     "data": {
      "text/plain": [
       "True"
      ]
     },
     "execution_count": 1,
     "metadata": {},
     "output_type": "execute_result"
    }
   ],
   "source": [
    "import os\n",
    "from dotenv import load_dotenv\n",
    "load_dotenv()"
   ]
  },
  {
   "cell_type": "code",
   "execution_count": 2,
   "metadata": {},
   "outputs": [],
   "source": [
    "os.environ['OPENAI_API_KEY'] = os.getenv('OPENAI_API_KEY')\n",
    "os.environ['LANGCHAIN_API_KEY'] = os.getenv('LANGCHAIN_API_KEY')\n",
    "os.environ['LANGCHAIN_PROJECT'] = os.getenv('LANGCHAIN_PROJECT')\n",
    "os.environ['LANGCHAIN_TRACING_V2'] = 'true'"
   ]
  },
  {
   "cell_type": "code",
   "execution_count": 3,
   "metadata": {},
   "outputs": [
    {
     "data": {
      "text/plain": [
       "ChatOpenAI(client=<openai.resources.chat.completions.Completions object at 0x0000026DAFBC9810>, async_client=<openai.resources.chat.completions.AsyncCompletions object at 0x0000026DB05D4150>, root_client=<openai.OpenAI object at 0x0000026DAF587F90>, root_async_client=<openai.AsyncOpenAI object at 0x0000026DB05C8650>, model_name='o1-mini', temperature=1.0, model_kwargs={}, openai_api_key=SecretStr('**********'))"
      ]
     },
     "execution_count": 3,
     "metadata": {},
     "output_type": "execute_result"
    }
   ],
   "source": [
    "from langchain_openai import ChatOpenAI\n",
    "\n",
    "llm = ChatOpenAI(model='o1-mini')\n",
    "llm\n"
   ]
  },
  {
   "cell_type": "code",
   "execution_count": 4,
   "metadata": {},
   "outputs": [
    {
     "data": {
      "text/plain": [
       "<langchain_community.document_loaders.text.TextLoader at 0x26dadabf990>"
      ]
     },
     "execution_count": 4,
     "metadata": {},
     "output_type": "execute_result"
    }
   ],
   "source": [
    "from langchain_community.document_loaders import TextLoader\n",
    "\n",
    "loader = TextLoader('autopsy_of_john_doe.txt')\n",
    "loader"
   ]
  },
  {
   "cell_type": "code",
   "execution_count": 5,
   "metadata": {},
   "outputs": [
    {
     "data": {
      "text/plain": [
       "[Document(metadata={'source': 'autopsy_of_john_doe.txt'}, page_content=' \"The Autopsy of Jane Doe\" is a 2016 horror film directed by AndrÃ© Ã˜vredal.  It tells the story of a father and son, Tommy and Austin Tilden, who are coroners in a small town. One night, they receive the body of an unidentified woman (Jane Doe) for autopsy.  What follows is a night of increasingly bizarre and terrifying discoveries as they try to determine her cause of death.\\n\\nThe film relies heavily on atmosphere and suspense.  The confined setting of the autopsy room, the progressively revealed details of Jane Doe\\'s body, and the growing sense of dread all contribute to a palpable tension.  The film excels at creating a claustrophobic and unsettling environment, making the viewer feel trapped alongside the Tildens.  However, this strength can also be a point of contention.  Does the film rely *too* heavily on atmosphere at the expense of a coherent plot?  Some might argue that the escalating supernatural events feel contrived, a convenient way to generate scares rather than a logical progression of the story.\\n\\nThe relationship between Tommy and Austin is a crucial element of the film.  Their dynamic, a mix of professional collaboration and familial concern, adds a layer of human drama to the horror.  They are trapped together, not just by the storm outside but also by the increasingly disturbing secrets they uncover.  However, is their relationship truly explored, or is it simply a convenient plot device to keep the two characters in the autopsy room?  Do their reactions to the increasingly bizarre events feel genuine, or do they sometimes seem like stock horror movie characters reacting as expected?\\n\\nThe mystery surrounding Jane Doe\\'s identity is the driving force of the narrative.  As Tommy and Austin delve deeper into the autopsy, they uncover a series of increasingly disturbing and inexplicable injuries.  These discoveries are initially intriguing, leading the viewer down a path of morbid curiosity.  However, the film eventually reveals the supernatural explanation for Jane Doeâ€™s condition.  This reveal, while visually impactful, could be considered a letdown for some.  Does the supernatural explanation feel earned, or does it feel like a cheap way to resolve the mystery?  Does the film effectively build the suspense leading up to the reveal, or does it feel rushed and unsatisfying?\\n\\nThe film\\'s climax is a chaotic and visually disturbing sequence.  As the supernatural forces surrounding Jane Doe manifest, the Tildens find themselves in a desperate fight for survival.  While the climax is certainly intense, it also raises questions about the film\\'s internal logic.  Do the supernatural events follow any consistent rules, or are they simply a series of escalating scares?  Does the film effectively tie together the various threads of the narrative, or does the climax feel disconnected from the earlier, more suspenseful sections?\\n\\nFinally, the film\\'s ending leaves some questions unanswered.  While it provides a resolution to the immediate threat, it also leaves the viewer with a lingering sense of unease and ambiguity.  This ambiguity can be interpreted as a strength, allowing viewers to draw their own conclusions about the events of the film.  However, it can also be seen as a weakness, leaving the audience feeling frustrated and unsatisfied.  Does the ending effectively conclude the story, or does it feel like a cop-out?  Does the ambiguity add to the film\\'s overall impact, or does it detract from it?  These are just some of the questions that \"The Anatomy of John Doe\" raises, and they are questions that viewers will likely be debating long after the credits have rolled.\\n')]"
      ]
     },
     "execution_count": 5,
     "metadata": {},
     "output_type": "execute_result"
    }
   ],
   "source": [
    "text_document = loader.load()\n",
    "text_document"
   ]
  },
  {
   "cell_type": "code",
   "execution_count": 9,
   "metadata": {},
   "outputs": [
    {
     "data": {
      "text/plain": [
       "<langchain_text_splitters.character.RecursiveCharacterTextSplitter at 0x1c09a42c110>"
      ]
     },
     "execution_count": 9,
     "metadata": {},
     "output_type": "execute_result"
    }
   ],
   "source": [
    "from langchain_text_splitters import RecursiveCharacterTextSplitter\n",
    "\n",
    "splitter = RecursiveCharacterTextSplitter(chunk_size=1000, chunk_overlap=200)\n",
    "\n",
    "splitter"
   ]
  },
  {
   "cell_type": "code",
   "execution_count": 11,
   "metadata": {},
   "outputs": [
    {
     "data": {
      "text/plain": [
       "[Document(metadata={'source': 'autopsy_of_john_doe.txt'}, page_content='\"The Autopsy of Jane Doe\" is a 2016 horror film directed by AndrÃ© Ã˜vredal.  It tells the story of a father and son, Tommy and Austin Tilden, who are coroners in a small town. One night, they receive the body of an unidentified woman (Jane Doe) for autopsy.  What follows is a night of increasingly bizarre and terrifying discoveries as they try to determine her cause of death.'),\n",
       " Document(metadata={'source': 'autopsy_of_john_doe.txt'}, page_content=\"The film relies heavily on atmosphere and suspense.  The confined setting of the autopsy room, the progressively revealed details of Jane Doe's body, and the growing sense of dread all contribute to a palpable tension.  The film excels at creating a claustrophobic and unsettling environment, making the viewer feel trapped alongside the Tildens.  However, this strength can also be a point of contention.  Does the film rely *too* heavily on atmosphere at the expense of a coherent plot?  Some might argue that the escalating supernatural events feel contrived, a convenient way to generate scares rather than a logical progression of the story.\"),\n",
       " Document(metadata={'source': 'autopsy_of_john_doe.txt'}, page_content='The relationship between Tommy and Austin is a crucial element of the film.  Their dynamic, a mix of professional collaboration and familial concern, adds a layer of human drama to the horror.  They are trapped together, not just by the storm outside but also by the increasingly disturbing secrets they uncover.  However, is their relationship truly explored, or is it simply a convenient plot device to keep the two characters in the autopsy room?  Do their reactions to the increasingly bizarre events feel genuine, or do they sometimes seem like stock horror movie characters reacting as expected?'),\n",
       " Document(metadata={'source': 'autopsy_of_john_doe.txt'}, page_content=\"The mystery surrounding Jane Doe's identity is the driving force of the narrative.  As Tommy and Austin delve deeper into the autopsy, they uncover a series of increasingly disturbing and inexplicable injuries.  These discoveries are initially intriguing, leading the viewer down a path of morbid curiosity.  However, the film eventually reveals the supernatural explanation for Jane Doeâ€™s condition.  This reveal, while visually impactful, could be considered a letdown for some.  Does the supernatural explanation feel earned, or does it feel like a cheap way to resolve the mystery?  Does the film effectively build the suspense leading up to the reveal, or does it feel rushed and unsatisfying?\"),\n",
       " Document(metadata={'source': 'autopsy_of_john_doe.txt'}, page_content=\"The film's climax is a chaotic and visually disturbing sequence.  As the supernatural forces surrounding Jane Doe manifest, the Tildens find themselves in a desperate fight for survival.  While the climax is certainly intense, it also raises questions about the film's internal logic.  Do the supernatural events follow any consistent rules, or are they simply a series of escalating scares?  Does the film effectively tie together the various threads of the narrative, or does the climax feel disconnected from the earlier, more suspenseful sections?\"),\n",
       " Document(metadata={'source': 'autopsy_of_john_doe.txt'}, page_content='Finally, the film\\'s ending leaves some questions unanswered.  While it provides a resolution to the immediate threat, it also leaves the viewer with a lingering sense of unease and ambiguity.  This ambiguity can be interpreted as a strength, allowing viewers to draw their own conclusions about the events of the film.  However, it can also be seen as a weakness, leaving the audience feeling frustrated and unsatisfied.  Does the ending effectively conclude the story, or does it feel like a cop-out?  Does the ambiguity add to the film\\'s overall impact, or does it detract from it?  These are just some of the questions that \"The Anatomy of John Doe\" raises, and they are questions that viewers will likely be debating long after the credits have rolled.')]"
      ]
     },
     "execution_count": 11,
     "metadata": {},
     "output_type": "execute_result"
    }
   ],
   "source": [
    "document = splitter.split_documents(text_document)\n",
    "document"
   ]
  },
  {
   "cell_type": "code",
   "execution_count": 13,
   "metadata": {},
   "outputs": [],
   "source": [
    "from langchain_openai import OpenAIEmbeddings\n",
    "from langchain_community.vectorstores import FAISS\n",
    "embeddings = OpenAIEmbeddings(model = 'text-embedding-ada-002')\n",
    "\n",
    "vector_store = FAISS.from_documents(document, embeddings)"
   ]
  },
  {
   "cell_type": "code",
   "execution_count": 15,
   "metadata": {},
   "outputs": [],
   "source": [
    "retriever = vector_store.as_retriever()"
   ]
  },
  {
   "cell_type": "code",
   "execution_count": 17,
   "metadata": {},
   "outputs": [],
   "source": [
    "from langchain_core.prompts import PromptTemplate\n",
    "\n",
    "prompt = PromptTemplate(\n",
    "  input_variables=['context', 'question'],\n",
    "  template='''\n",
    "Answer the following question based on the given context:\n",
    "<context>\n",
    "{context}\n",
    "</context>\n",
    "\n",
    "Question: {question}\n",
    "Answer:'''\n",
    ")"
   ]
  },
  {
   "cell_type": "code",
   "execution_count": 20,
   "metadata": {},
   "outputs": [],
   "source": [
    "from langchain.chains.combine_documents import create_stuff_documents_chain\n",
    "\n",
    "chain = create_stuff_documents_chain(\n",
    "  prompt=prompt,\n",
    " llm=llm,\n",
    ")"
   ]
  },
  {
   "cell_type": "code",
   "execution_count": 23,
   "metadata": {},
   "outputs": [],
   "source": [
    "question = 'is this a horror movie or a family watch?'\n",
    "context = retriever.get_relevant_documents(question)\n",
    "\n",
    "response = chain.invoke({\n",
    "  'context': context,\n",
    "  'question': question\n",
    "})"
   ]
  },
  {
   "cell_type": "code",
   "execution_count": 27,
   "metadata": {},
   "outputs": [
    {
     "name": "stdout",
     "output_type": "stream",
     "text": [
      "\"The Autopsy of Jane Doe\" is decidedly a **horror movie** rather than a family-friendly film. Here's why:\n",
      "\n",
      "1. **Atmosphere and Suspense**: The film heavily relies on creating a claustrophobic and unsettling environment within the autopsy room. This intense atmosphere is characteristic of horror genres aiming to evoke fear and tension.\n",
      "\n",
      "2. **Supernatural Elements**: The escalating supernatural events surrounding Jane Doe introduce elements that are designed to scare and disturb the audience. These occurrences often lack logical progression, serving more to generate scares than to develop a coherent, family-appropriate narrative.\n",
      "\n",
      "3. **Intense Climax**: The climax involves chaotic and visually disturbing sequences that are typical of horror films. Such scenes are meant to elicit strong emotional reactions, including fear and anxiety, which are not suitable for all audiences, especially younger viewers.\n",
      "\n",
      "4. **Themes and Content**: The movie delves into dark themes, including death, the unknown, and potentially graphic autopsy scenes. These elements contribute to an overall tone that is mature and intense, aligning with horror rather than family viewing.\n",
      "\n",
      "5. **Character Dynamics**: While the relationship between father and son adds a layer of human drama, it primarily serves to heighten the horror experience rather than provide a narrative suitable for family audiences. Their interactions amidst terrifying events emphasize the suspense and fear central to the genre.\n",
      "\n",
      "**Conclusion**: \"The Autopsy of Jane Doe\" is best enjoyed by fans of horror who appreciate atmospheric tension and supernatural scares. It is **not recommended as a family watch** due to its mature themes, intense scenes, and the potential for disturbing content that may not be suitable for all ages.\n"
     ]
    }
   ],
   "source": [
    "print(response)"
   ]
  },
  {
   "cell_type": "code",
   "execution_count": null,
   "metadata": {},
   "outputs": [],
   "source": []
  },
  {
   "cell_type": "code",
   "execution_count": null,
   "metadata": {},
   "outputs": [],
   "source": []
  },
  {
   "cell_type": "code",
   "execution_count": null,
   "metadata": {},
   "outputs": [],
   "source": []
  }
 ],
 "metadata": {
  "kernelspec": {
   "display_name": "venv",
   "language": "python",
   "name": "python3"
  },
  "language_info": {
   "codemirror_mode": {
    "name": "ipython",
    "version": 3
   },
   "file_extension": ".py",
   "mimetype": "text/x-python",
   "name": "python",
   "nbconvert_exporter": "python",
   "pygments_lexer": "ipython3",
   "version": "3.11.7"
  }
 },
 "nbformat": 4,
 "nbformat_minor": 2
}
