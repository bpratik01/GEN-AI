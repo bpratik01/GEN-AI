{
 "cells": [
  {
   "cell_type": "code",
   "execution_count": 1,
   "metadata": {},
   "outputs": [
    {
     "data": {
      "text/plain": [
       "True"
      ]
     },
     "execution_count": 1,
     "metadata": {},
     "output_type": "execute_result"
    }
   ],
   "source": [
    "import os\n",
    "from dotenv import load_dotenv\n",
    "load_dotenv()"
   ]
  },
  {
   "cell_type": "code",
   "execution_count": 2,
   "metadata": {},
   "outputs": [],
   "source": [
    "os.environ['OPENAI_API_KEY'] = os.getenv('OPENAI_API_KEY')\n",
    "os.environ['LANGCHAIN_API_KEY'] = os.getenv('LANGCHAIN_API_KEY')\n",
    "os.environ['LANGCHAIN_PROJECT'] = os.getenv('LANGCHAIN_PROJECT')\n",
    "os.environ['LANGSMITH_TRACING'] = 'true'"
   ]
  },
  {
   "cell_type": "code",
   "execution_count": 3,
   "metadata": {},
   "outputs": [
    {
     "data": {
      "text/plain": [
       "ChatOpenAI(client=<openai.resources.chat.completions.Completions object at 0x0000012808620050>, async_client=<openai.resources.chat.completions.AsyncCompletions object at 0x00000128083FC1D0>, root_client=<openai.OpenAI object at 0x0000012805662990>, root_async_client=<openai.AsyncOpenAI object at 0x00000128084A3990>, model_name='o1-mini', temperature=1.0, model_kwargs={}, openai_api_key=SecretStr('**********'))"
      ]
     },
     "execution_count": 3,
     "metadata": {},
     "output_type": "execute_result"
    }
   ],
   "source": [
    "from langchain_openai import ChatOpenAI\n",
    "\n",
    "llm = ChatOpenAI(model = 'o1-mini')\n",
    "llm"
   ]
  },
  {
   "cell_type": "code",
   "execution_count": 4,
   "metadata": {},
   "outputs": [],
   "source": [
    "from langchain_community.document_loaders import WikipediaLoader\n",
    "\n",
    "loader = WikipediaLoader(\n",
    "  query='Talha Anjum',\n",
    "  load_max_docs=2,\n",
    "  lang='en'\n",
    ")"
   ]
  },
  {
   "cell_type": "code",
   "execution_count": 7,
   "metadata": {},
   "outputs": [],
   "source": [
    "docs = loader.load()"
   ]
  },
  {
   "cell_type": "code",
   "execution_count": 9,
   "metadata": {},
   "outputs": [],
   "source": [
    "from langchain_text_splitters import RecursiveCharacterTextSplitter\n",
    "\n",
    "splitter = RecursiveCharacterTextSplitter(chunk_size=3000, chunk_overlap=450)\n",
    "\n",
    "text_docs = splitter.split_documents(docs)"
   ]
  },
  {
   "cell_type": "code",
   "execution_count": 11,
   "metadata": {},
   "outputs": [],
   "source": [
    "from langchain_openai import OpenAIEmbeddings\n",
    "from langchain_community.vectorstores import FAISS\n",
    "\n",
    "embeddings = OpenAIEmbeddings(model='text-embedding-3-small')\n",
    "\n",
    "vector_store = FAISS.from_documents(text_docs, embeddings)"
   ]
  },
  {
   "cell_type": "code",
   "execution_count": 12,
   "metadata": {},
   "outputs": [],
   "source": [
    "retriver = vector_store.as_retriever()"
   ]
  },
  {
   "cell_type": "code",
   "execution_count": 17,
   "metadata": {},
   "outputs": [],
   "source": [
    "from langchain_core.prompts import PromptTemplate\n",
    "\n",
    "prompt = PromptTemplate(\n",
    "  input_variables=['question', 'context'],\n",
    "\n",
    "  template='''Answer the following based on the given context in english language:\n",
    "  <context>\n",
    "  {context}\n",
    "  </context>\n",
    "\n",
    "  Question: {question}\n",
    "  Answer:\n",
    "  '''\n",
    "\n",
    "\n",
    ")"
   ]
  },
  {
   "cell_type": "code",
   "execution_count": 18,
   "metadata": {},
   "outputs": [],
   "source": [
    "from langchain.chains.combine_documents import create_stuff_documents_chain\n",
    "\n",
    "chain = create_stuff_documents_chain(\n",
    "  llm=llm,\n",
    "  prompt=prompt,\n",
    ")"
   ]
  },
  {
   "cell_type": "code",
   "execution_count": null,
   "metadata": {},
   "outputs": [
    {
     "name": "stdout",
     "output_type": "stream",
     "text": [
      "Talha Anjum, born on October 3, 1995, in Karachi, Sindh, Pakistan, is a prominent Pakistani rapper, singer, songwriter, and lyricist. He is best known as a co-founder and member of the hip-hop duo **Young Stunners**, alongside Talhah Yunus. Talha gained widespread recognition with the release of their breakout song \"**Burger-e-Karachi**\" in 2013. Some of his major hits include \"**Tum Tum**\", \"**Gumaan**\", \"**Don't Mind**\", \"**Afsanay**\", \"**Downers at Dusk**\", and \"**Groove Mera**\", which served as the anthem for PSL 6.\n",
      "\n",
      "Educated at the Army Public School in Karachi, Talha began his career by participating in rap battles during his school years, using his lyrics to address fundamental social issues and connect with audiences. Alongside Talhah Yunus, he played a key role in introducing Urdu rap to the mainstream Pakistani music scene. Their music is primarily produced by Jokhay, and they have collaborated with various artists both within Pakistan and internationally.\n",
      "\n",
      "In addition to his music career, Talha Anjum made his acting debut in the movie \"**Kattar Karachi**\" (2024), starring alongside Kinza Hashmi. This venture was accompanied by the release of his third studio album and his collaboration album with Mass Appeal Records titled \"**My Terrible Mind**\".\n",
      "\n",
      "Talha's contributions have significantly impacted the Pakistani hip-hop landscape, establishing him as a transformative figure in contemporary music.\n"
     ]
    }
   ],
   "source": [
    "question = 'Kaun Talha '\n",
    "context = retriver.get_relevant_documents(question, top_k=1)\n",
    "response = chain.invoke(\n",
    "  {\n",
    "    'question': question,\n",
    "    'context': context\n",
    "  }\n",
    ")\n",
    "\n",
    "print(response)"
   ]
  },
  {
   "cell_type": "code",
   "execution_count": null,
   "metadata": {},
   "outputs": [],
   "source": []
  }
 ],
 "metadata": {
  "kernelspec": {
   "display_name": "Python 3",
   "language": "python",
   "name": "python3"
  },
  "language_info": {
   "codemirror_mode": {
    "name": "ipython",
    "version": 3
   },
   "file_extension": ".py",
   "mimetype": "text/x-python",
   "name": "python",
   "nbconvert_exporter": "python",
   "pygments_lexer": "ipython3",
   "version": "3.11.7"
  }
 },
 "nbformat": 4,
 "nbformat_minor": 2
}
