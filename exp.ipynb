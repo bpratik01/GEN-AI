{
 "cells": [
  {
   "cell_type": "code",
   "execution_count": null,
   "id": "34f325f1",
   "metadata": {
    "vscode": {
     "languageId": "plaintext"
    }
   },
   "outputs": [],
   "source": [
    "import langgraph.prebuilt as prebuilt\n",
    "\n",
    "# List everything inside prebuilt\n",
    "print(dir(prebuilt))\n",
    "\n",
    "# Try help on ToolNode\n",
    "help(prebuilt.ToolNode)\n",
    "\n",
    "# Try help on tools_condition\n",
    "help(prebuilt.tools_condition)\n"
   ]
  }
 ],
 "metadata": {
  "language_info": {
   "name": "python"
  }
 },
 "nbformat": 4,
 "nbformat_minor": 5
}
