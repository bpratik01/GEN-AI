{
 "cells": [
  {
   "cell_type": "code",
   "execution_count": 1,
   "metadata": {},
   "outputs": [],
   "source": [
    "import os\n",
    "from dotenv import load_dotenv\n",
    "load_dotenv()\n",
    "\n",
    "api_key = os.getenv('OPENAI_API_KEY')\n"
   ]
  },
  {
   "cell_type": "code",
   "execution_count": 8,
   "metadata": {},
   "outputs": [],
   "source": [
    "from langchain_openai import ChatOpenAI\n",
    "\n",
    "model = ChatOpenAI(\n",
    "  model = 'gpt-4o-mini',\n",
    "  api_key = api_key,\n",
    "  temperature = 0.5,\n",
    "  max_tokens = 1000\n",
    ")"
   ]
  },
  {
   "cell_type": "code",
   "execution_count": 9,
   "metadata": {},
   "outputs": [],
   "source": [
    "from langchain_core.messages import HumanMessage, AIMessage\n",
    "\n",
    "response = model.invoke(\n",
    "  [\n",
    "    HumanMessage(content='Hi My name is Pratik and I am an Machine learning Engineer and I also work with AI creating Agents'),\n",
    "\n",
    "    AIMessage(content='Hello Pratik! It\\'s great to meet you. How can I assist you today?'), \n",
    "\n",
    "    HumanMessage(content= 'Do you knwo who I am and what I do?')\n",
    "  ]\n",
    ")"
   ]
  },
  {
   "cell_type": "code",
   "execution_count": 10,
   "metadata": {},
   "outputs": [
    {
     "data": {
      "text/plain": [
       "AIMessage(content=\"Yes, you've introduced yourself as Pratik, a Machine Learning Engineer who works with AI to create agents. If you'd like to share more about your work or any specific projects you're involved in, I'd love to hear about it!\", additional_kwargs={'refusal': None}, response_metadata={'token_usage': {'completion_tokens': 46, 'prompt_tokens': 65, 'total_tokens': 111, 'completion_tokens_details': {'accepted_prediction_tokens': 0, 'audio_tokens': 0, 'reasoning_tokens': 0, 'rejected_prediction_tokens': 0}, 'prompt_tokens_details': {'audio_tokens': 0, 'cached_tokens': 0}}, 'model_name': 'gpt-4o-mini-2024-07-18', 'system_fingerprint': 'fp_06737a9306', 'finish_reason': 'stop', 'logprobs': None}, id='run-31925946-08e7-4cd9-b0a7-02ddb321ab08-0', usage_metadata={'input_tokens': 65, 'output_tokens': 46, 'total_tokens': 111, 'input_token_details': {'audio': 0, 'cache_read': 0}, 'output_token_details': {'audio': 0, 'reasoning': 0}})"
      ]
     },
     "execution_count": 10,
     "metadata": {},
     "output_type": "execute_result"
    }
   ],
   "source": [
    "response"
   ]
  },
  {
   "cell_type": "markdown",
   "metadata": {},
   "source": [
    "## Message History\n",
    "Message history in LangChain stores conversation data as a sequential list of message objects.  \n",
    "Each entry is an instance of either HumanMessage or AIMessage, representing a dialogue turn.  \n",
    "This history is used to provide context for generating relevant and coherent responses."
   ]
  },
  {
   "cell_type": "code",
   "execution_count": 14,
   "metadata": {},
   "outputs": [],
   "source": [
    "from langchain_community.chat_message_histories import ChatMessageHistory\n",
    "from langchain_core.chat_history import BaseChatMessageHistory\n",
    "from langchain_core.runnables.history import RunnableWithMessageHistory\n",
    "\n",
    "message_histories = {}\n",
    "\n",
    "def get_session_history(session_id: str) -> BaseChatMessageHistory:\n",
    "    if session_id not in message_histories:\n",
    "        message_histories[session_id] = ChatMessageHistory()\n",
    "    return message_histories[session_id] \n",
    "\n",
    "with_message_history = RunnableWithMessageHistory(model, get_session_history)"
   ]
  },
  {
   "cell_type": "code",
   "execution_count": 19,
   "metadata": {},
   "outputs": [],
   "source": [
    "config = {\n",
    "  'configurable' : {'session_id': 'chat_1'},\n",
    "}"
   ]
  },
  {
   "cell_type": "code",
   "execution_count": null,
   "metadata": {},
   "outputs": [
    {
     "data": {
      "text/plain": [
       "AIMessage(content=\"Yes, you've introduced yourself as Pratik, a Machine Learning Engineer who works with AI to create agents. If there's anything specific you'd like to discuss or any questions you have related to your work, feel free to share!\", additional_kwargs={'refusal': None}, response_metadata={'token_usage': {'completion_tokens': 45, 'prompt_tokens': 65, 'total_tokens': 110, 'completion_tokens_details': {'accepted_prediction_tokens': 0, 'audio_tokens': 0, 'reasoning_tokens': 0, 'rejected_prediction_tokens': 0}, 'prompt_tokens_details': {'audio_tokens': 0, 'cached_tokens': 0}}, 'model_name': 'gpt-4o-mini-2024-07-18', 'system_fingerprint': 'fp_06737a9306', 'finish_reason': 'stop', 'logprobs': None}, id='run-ed319ac8-79d9-4c5f-aa2a-8aca51523cbb-0', usage_metadata={'input_tokens': 65, 'output_tokens': 45, 'total_tokens': 110, 'input_token_details': {'audio': 0, 'cache_read': 0}, 'output_token_details': {'audio': 0, 'reasoning': 0}})"
      ]
     },
     "execution_count": 20,
     "metadata": {},
     "output_type": "execute_result"
    }
   ],
   "source": [
    "response = with_message_history.invoke(\n",
    "  [\n",
    "    HumanMessage(content='Hi My name is Pratik and I am an Machine learning Engineer and I also work with AI creating Agents'),\n",
    "\n",
    "    AIMessage(content='Hello Pratik! It\\'s great to meet you. How can I assist you today?'), \n",
    "\n",
    "    HumanMessage(content= 'Do you knwo who I am and what I do?')\n",
    "  ],\n",
    "  config\n",
    ")"
   ]
  },
  {
   "cell_type": "code",
   "execution_count": 21,
   "metadata": {},
   "outputs": [
    {
     "data": {
      "text/plain": [
       "\"Yes, you've introduced yourself as Pratik, a Machine Learning Engineer who works with AI to create agents. If you'd like to share more about your work or any specific projects you're involved in, I'd love to hear about it!\""
      ]
     },
     "execution_count": 21,
     "metadata": {},
     "output_type": "execute_result"
    }
   ],
   "source": [
    "response.content"
   ]
  },
  {
   "cell_type": "code",
   "execution_count": 26,
   "metadata": {},
   "outputs": [],
   "source": [
    "config1 = {\n",
    "  'configurable' : {'session_id': 'chat_2'},\n",
    "}\n",
    "\n",
    "response = with_message_history.invoke(\n",
    "  HumanMessage(content= 'Do you knwo who I am and what I do?'),\n",
    "  config = config1\n",
    ")"
   ]
  },
  {
   "cell_type": "code",
   "execution_count": 27,
   "metadata": {},
   "outputs": [
    {
     "data": {
      "text/plain": [
       "'I don’t have access to personal data about individuals unless it has been shared with me in the course of our conversation. I’m here to provide information and answer questions to the best of my ability. If you’d like to share more about yourself or what you do, feel free to do so!'"
      ]
     },
     "execution_count": 27,
     "metadata": {},
     "output_type": "execute_result"
    }
   ],
   "source": [
    "\n",
    "response.content"
   ]
  },
  {
   "cell_type": "code",
   "execution_count": 28,
   "metadata": {},
   "outputs": [],
   "source": [
    "config1 = {\n",
    "  'configurable' : {'session_id': 'chat_2'},\n",
    "}\n",
    "\n",
    "response = with_message_history.invoke(\n",
    "  HumanMessage(content= 'Hey My name is Kartik I am a discord bot'),\n",
    "  config = config1\n",
    ")"
   ]
  },
  {
   "cell_type": "code",
   "execution_count": 29,
   "metadata": {},
   "outputs": [
    {
     "data": {
      "text/plain": [
       "\"Hi Kartik! It's great to meet you. As a Discord bot, you must have some interesting functionalities. What kind of features do you offer to users on Discord?\""
      ]
     },
     "execution_count": 29,
     "metadata": {},
     "output_type": "execute_result"
    }
   ],
   "source": [
    "response.content"
   ]
  },
  {
   "cell_type": "code",
   "execution_count": 30,
   "metadata": {},
   "outputs": [
    {
     "data": {
      "text/plain": [
       "\"Yes, you mentioned that your name is Kartik and that you are a Discord bot. If there's more you'd like to share about your features or capabilities, feel free to let me know!\""
      ]
     },
     "execution_count": 30,
     "metadata": {},
     "output_type": "execute_result"
    }
   ],
   "source": [
    "re_check = with_message_history.invoke(\n",
    "  HumanMessage(content= 'Do you knwo who I am and what I do?'),\n",
    "  config = config1\n",
    ")\n",
    "re_check.content"
   ]
  },
  {
   "cell_type": "code",
   "execution_count": null,
   "metadata": {},
   "outputs": [],
   "source": [
    "`"
   ]
  }
 ],
 "metadata": {
  "kernelspec": {
   "display_name": "Python 3",
   "language": "python",
   "name": "python3"
  },
  "language_info": {
   "codemirror_mode": {
    "name": "ipython",
    "version": 3
   },
   "file_extension": ".py",
   "mimetype": "text/x-python",
   "name": "python",
   "nbconvert_exporter": "python",
   "pygments_lexer": "ipython3",
   "version": "3.12.8"
  }
 },
 "nbformat": 4,
 "nbformat_minor": 2
}
